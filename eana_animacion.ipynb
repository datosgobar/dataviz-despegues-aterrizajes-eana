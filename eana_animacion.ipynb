{
 "cells": [
  {
   "cell_type": "markdown",
   "metadata": {},
   "source": [
    "# Animación EANA\n",
    "\n",
    "Genera un video para un dia de vuelos de cabotaje en la Republica Argentina\n",
    "\n",
    "## Inicialización\n",
    "\n",
    "### Imports iniciales"
   ]
  },
  {
   "cell_type": "code",
   "execution_count": 101,
   "metadata": {},
   "outputs": [],
   "source": [
    "#Imports iniciales\n",
    "\n",
    "import pandas as pd\n",
    "import numpy as np\n",
    "import matplotlib.pyplot as plt\n",
    "from matplotlib import animation\n",
    "import os\n",
    "import seaborn as sns\n",
    "from unidecode import unidecode \n",
    "import geopandas as gpd\n",
    "from shapely.geometry import Point, Polygon\n",
    "%matplotlib inline"
   ]
  },
  {
   "cell_type": "markdown",
   "metadata": {},
   "source": [
    "### Carga de datos"
   ]
  },
  {
   "cell_type": "code",
   "execution_count": 112,
   "metadata": {},
   "outputs": [],
   "source": [
    "#Carga de datos\n",
    "eana = pd.read_csv('./input/eana1.csv',sep=';',encoding='latin1')\n",
    "airports = pd.read_csv('./input/airports.csv', encoding='utf8')\n",
    "provincias = pd.read_csv('./input/region_provincia.csv',encoding='utf8')\n",
    "\n",
    "#parseo la fecha\n",
    "eana['fecha_parseada'] = pd.to_datetime(eana['Fecha']+eana['Hora Movimiento HHMM'],format='%d/%m/%Y%H:%M')\n",
    "\n",
    "#agrego columna anio y mes\n",
    "eana['anio'] = eana.fecha_parseada.dt.year\n",
    "eana['mes'] = eana.fecha_parseada.dt.month\n",
    "\n",
    "#normalizo columnas de eana.\n",
    "eana.columns = eana.columns.map(unidecode).str.lower().str.replace(' ','_')"
   ]
  },
  {
   "cell_type": "markdown",
   "metadata": {},
   "source": [
    "## Animación\n",
    "### Funciones auxiliares"
   ]
  },
  {
   "cell_type": "code",
   "execution_count": 113,
   "metadata": {},
   "outputs": [],
   "source": [
    "from scipy import interpolate\n",
    "\n",
    "def posicion_vuelo (coord_d, coord_a, t_d, t_a, t, smoothing=False):\n",
    "    \"\"\" Interpola un vuelo dado su despegue y aterrizaje\n",
    "    \n",
    "    Args:\n",
    "        coord_d (tuple): Coordenadas del despegue.\n",
    "        coord_a (tuple): Coordenadas del aterrizaje.\n",
    "        t_d (datetime): Tiempo de despegue.\n",
    "        t_a (datetime): Tiempo de aterrizaje. \n",
    "        t (datetime array): Vector de tiempos a interpolar\n",
    "\n",
    "    Returns:\n",
    "        np.Array: Coordenadas intermedias del vuelo.\n",
    "    \"\"\"\n",
    "    x_i = np.empty(len(t))\n",
    "    x_i.fill(np.nan)\n",
    "    y_i = np.empty(len(t))\n",
    "    y_i.fill(np.nan)\n",
    "    \n",
    "    x_d, y_d = coord_d\n",
    "    x_a, y_a = coord_a\n",
    "    \n",
    "    t_d = (t_d - np.datetime64('1970-01-01T00:00:00Z')) / np.timedelta64(1,'s')\n",
    "    t_a = (t_a - np.datetime64('1970-01-01T00:00:00Z')) / np.timedelta64(1,'s')\n",
    "    t = (t - np.datetime64('1970-01-01T00:00:00Z')) / np.timedelta64(1,'s')\n",
    "    \n",
    "    gi = (t > t_d) & (t < t_a)\n",
    "    try: \n",
    "        # Agrego un ease-in ease-out sigmoideo, para la velocidad del avion\n",
    "        if smoothing:\n",
    "            alpha = 2./(t_a - t_d)\n",
    "            t_gi = t[gi].astype(float)\n",
    "            t_mitad = t[np.round((np.flatnonzero(gi)[0] + np.flatnonzero(gi)[-1])/2)]\n",
    "            t_falso = 1/(1 + np.exp(-alpha * (t_gi - t_mitad)))\n",
    "            delta_falso = np.max(t_falso) - np.min(t_falso)\n",
    "            delta_real = t_a - t_d\n",
    "            t_falso = (t_falso - np.min(t_falso)) / delta_falso * delta_real + t_d\n",
    "        else:\n",
    "            t_falso = t[gi]\n",
    "        x_i[gi] = np.interp(t_falso, [t_d, t_a], [x_d, x_a])\n",
    "        y_i[gi] = np.interp(t_falso, [t_d, t_a], [y_d, y_a])\n",
    "    except TypeError:\n",
    "        pass\n",
    "    return [x_i, y_i]\n",
    "\n",
    "\n",
    "def encontrar_aterrizaje(row , eana):\n",
    "    \"\"\" Encuentra un registro de aterrizaje dado un despegue.\n",
    "    \n",
    "    Args:\n",
    "        row (pd.Series): Datos del despegue.s\n",
    "        eana (pd.DataFrame): Tabla en la que buscar.\n",
    "\n",
    "    Returns:\n",
    "        pd.Series: Fila correspondiente al aterrizaje.\n",
    "    \"\"\"\n",
    "    if 'Aterrizaje' in row.tipo_de_movimiento:\n",
    "        print 'Error: Es un aterrizaje.'\n",
    "        return\n",
    "    \n",
    "    es_aterrizaje = eana.tipo_de_movimiento == 'Aterrizaje'\n",
    "    coincide_avion = eana.aeronave == row.aeronave\n",
    "    coincide_aerolinea = eana.aerolinea_nombre == row.aerolinea_nombre\n",
    "    coincide_aeropuerto = (eana.origen_oaci == row.origen_oaci) & (eana.destino_oaci == row.destino_oaci)\n",
    "    \n",
    "    \n",
    "    temp = eana[coincide_avion & coincide_aerolinea & coincide_aeropuerto & es_aterrizaje]\n",
    "    temp.loc[:,'dt_diff'] = temp.fecha_parseada.values - np.datetime64(row.fecha_parseada)\n",
    "    gi = temp.fecha_parseada.values < np.datetime64(row.fecha_parseada)\n",
    "    temp.loc[gi,'dt_diff'] = np.timedelta64(5,'D')\n",
    "    \n",
    "    minimo = temp.dt_diff.idxmin()\n",
    "    \n",
    "    return temp.loc[minimo]\n"
   ]
  },
  {
   "cell_type": "code",
   "execution_count": 144,
   "metadata": {},
   "outputs": [],
   "source": [
    "# Interpolo las posiciones para todo un vuelo\n",
    "def interpolar_posiciones(fecha_inicio , fecha_fin, registros, extremos_coordenadas):\n",
    "    \"\"\" Genera las posiciones de un vuelo dado  un registro de aterrizaje dado un despegue.\n",
    "    \n",
    "    Args:\n",
    "        fecha_inicio (datetime): fecha de inicio para la animación\n",
    "        fecha_fin (datetime): fecha de fin de para la animación\n",
    "        registros (pd.DataFrame): Tabla en la que buscar\n",
    "        extremos_coordenadas (pd.DataFrame): Tabla con las coordenadas de los aeropuertos.\n",
    "\n",
    "    Returns:\n",
    "        np.Array (tuple): Vectores con las coordenadas a graficar.\n",
    "    \"\"\"\n",
    "    times = np.arange(FECHA_INICIO, FECHA_FIN, dtype='datetime64[m]', step=3)\n",
    "\n",
    "    x = []\n",
    "    y = []\n",
    "    counter = 0\n",
    "    print(\"Registros totales %d\" % len(registros))\n",
    "    for idx, row in registros.iterrows():\n",
    "        counter += 1\n",
    "        if counter % 100 == 0:  \n",
    "            print '\\rVa {0:.2f} %'.format(float(counter)/len(registros)*100),\n",
    "\n",
    "        if 'Aterrizaje' in row.tipo_de_movimiento:\n",
    "            continue\n",
    "\n",
    "        coord_d = extremos_coordenadas[extremos_coordenadas.ident.str.contains(row.origen_oaci)][['longitude_deg','latitude_deg']].values.squeeze()\n",
    "        coord_a = extremos_coordenadas[extremos_coordenadas.ident.str.contains(row.destino_oaci)][['longitude_deg','latitude_deg']].values.squeeze()\n",
    "\n",
    "        t_d = row.fecha_parseada\n",
    "        try:\n",
    "            t_a = encontrar_aterrizaje( row, registros).fecha_parseada\n",
    "            coord_i = posicion_vuelo (coord_d, coord_a, t_d, t_a, times, smoothing=True)\n",
    "            coord_i_x, coord_i_y = coord_i  \n",
    "            x.append(coord_i_x)\n",
    "            y.append(coord_i_y)\n",
    "        except:\n",
    "            pass\n",
    "        \n",
    "    return x, y\n"
   ]
  },
  {
   "cell_type": "markdown",
   "metadata": {},
   "source": [
    "### Restringir los datos a un rango de fechas particular"
   ]
  },
  {
   "cell_type": "code",
   "execution_count": 114,
   "metadata": {},
   "outputs": [],
   "source": [
    "FECHA_INICIO = '2017-08-21'\n",
    "FECHA_FIN = '2017-08-22'\n",
    "\n",
    "vuelo_es_cabotaje = eana.clasificacion_vuelo.str.contains('Cabotaje')\n",
    "vuelo_es_regular = eana.clase_de_vuelo.str.contains('Regular')\n",
    "vuelo_en_fecha = (eana.fecha_parseada >= FECHA_INICIO) & (eana.fecha_parseada <= FECHA_FIN)\n",
    "\n",
    "eana_temp = eana[vuelo_es_cabotaje & vuelo_es_regular & vuelo_en_fecha]"
   ]
  },
  {
   "cell_type": "markdown",
   "metadata": {},
   "source": [
    "### Interpolar todos los vuelos del rango horario\n",
    "\n",
    "Tarda ~ 1.6 minutos"
   ]
  },
  {
   "cell_type": "code",
   "execution_count": 145,
   "metadata": {},
   "outputs": [
    {
     "name": "stdout",
     "output_type": "stream",
     "text": [
      "Registros totales 830\n"
     ]
    },
    {
     "name": "stderr",
     "output_type": "stream",
     "text": [
      "/home/melik/anaconda/envs/cleaner/lib/python2.7/site-packages/ipykernel_launcher.py:24: DeprecationWarning: parsing timezone aware datetimes is deprecated; this will raise an error in the future\n",
      "/home/melik/anaconda/envs/cleaner/lib/python2.7/site-packages/ipykernel_launcher.py:25: DeprecationWarning: parsing timezone aware datetimes is deprecated; this will raise an error in the future\n",
      "/home/melik/anaconda/envs/cleaner/lib/python2.7/site-packages/ipykernel_launcher.py:26: DeprecationWarning: parsing timezone aware datetimes is deprecated; this will raise an error in the future\n",
      "/home/melik/anaconda/envs/cleaner/lib/python2.7/site-packages/ipykernel_launcher.py:38: RuntimeWarning: invalid value encountered in divide\n"
     ]
    },
    {
     "name": "stdout",
     "output_type": "stream",
     "text": [
      "Va 96.39 %       1 loop, best of 1: 1min 41s per loop\n",
      "\n"
     ]
    }
   ],
   "source": [
    "%timeit -r 1 -n 1 x, y = interpolar_posiciones(FECHA_INICIO , FECHA_FIN, eana_temp, airports);"
   ]
  },
  {
   "cell_type": "markdown",
   "metadata": {},
   "source": [
    "### Generar la Animacion\n",
    "\n",
    "Tarda ~ 1 minuto"
   ]
  },
  {
   "cell_type": "code",
   "execution_count": 149,
   "metadata": {
    "collapsed": true
   },
   "outputs": [
    {
     "name": "stdout",
     "output_type": "stream",
     "text": [
      "1 loop, best of 1: 51.2 ms per loop\n",
      "1 loop, best of 1: 52.2 s per loop\n"
     ]
    },
    {
     "data": {
      "image/png": "[encoded data removed]",
      "text/plain": [
       "<matplotlib.figure.Figure at 0x7ffb202ffb90>"
      ]
     },
     "metadata": {},
     "output_type": "display_data"
    }
   ],
   "source": [
    "# First set up the figure, the axis, and the plot element we want to animate\n",
    "fig = plt.figure(figsize=(10,20))\n",
    "ax_arg = fig.add_subplot(1,1,1)\n",
    "\n",
    "# mundo = gpd.read_file(gpd.datasets.get_path('naturalearth_lowres'))\n",
    "# mundo[mundo.iso_a3=='ARG'].plot(ax=ax_arg); \n",
    "# Uso el mapa de mundo para pruebas porque es más liviano\n",
    "# IMPORTANTE! Para el video usar ESTE: \n",
    "argentina = gpd.read_file('./input/provincia')\n",
    "argentina.plot(ax=ax_arg);\n",
    "\n",
    "point, = ax_arg.plot([], [], '.', color='red', markersize=15)\n",
    "time_text = ax_arg.text(-65,-57, '', fontsize=25)\n",
    "plt.xlim(-75,-50)\n",
    "plt.ylim(-60,-20)\n",
    "X = np.vstack(x).T\n",
    "Y = np.vstack(y).T\n",
    "\n",
    "plt.box('off')\n",
    "plt.xticks([])\n",
    "plt.yticks([])\n",
    "\n",
    "# initialization function: plot the background of each frame\n",
    "def init():\n",
    "    point.set_data([], [])\n",
    "    time_text.set_text('')\n",
    "\n",
    "    return point, time_text\n",
    "\n",
    "# animation function.  This is called sequentially\n",
    "def animate(i):\n",
    "    point.set_data(X[i], Y[i])\n",
    "    time_text.set_text(str(times[i]))\n",
    "    return point, time_text\n",
    "\n",
    "# call the animator.  blit=True means only re-draw the parts that have changed.\n",
    "anim = animation.FuncAnimation(fig, animate, init_func=init, frames=480, interval=500, blit=True)\n",
    "\n",
    "%timeit -r 1 -n 1 anim.save('./output/basic_animation_'+FECHA_INICIO+'.avi', fps=24, extra_args=['-vcodec', 'libx264'])"
   ]
  },
  {
   "cell_type": "markdown",
   "metadata": {},
   "source": [
    "## Sobre los datos utilizados en la animación"
   ]
  },
  {
   "cell_type": "markdown",
   "metadata": {},
   "source": [
    "### Cantidad de aviones en el aire"
   ]
  },
  {
   "cell_type": "code",
   "execution_count": 147,
   "metadata": {},
   "outputs": [
    {
     "data": {
      "text/plain": [
       "418"
      ]
     },
     "execution_count": 147,
     "metadata": {},
     "output_type": "execute_result"
    }
   ],
   "source": [
    "eana_temp[eana_temp.tipo_de_movimiento.str.contains('Despegue')].fecha.count()\n"
   ]
  },
  {
   "cell_type": "markdown",
   "metadata": {},
   "source": [
    "### Vuelos por región"
   ]
  },
  {
   "cell_type": "code",
   "execution_count": 124,
   "metadata": {},
   "outputs": [],
   "source": [
    "# # levanto la geografía de las privincias\n",
    "# argentina = gpd.read_file('./input/provincia', encoding='utf8')\n",
    "\n",
    "pais_es_argentina = airports.iso_country.str.contains('AR')\n",
    "pais_es_nulo = airports.iso_country.isnull()\n",
    "pais_es_argentina[pais_es_nulo] = False\n",
    "\n",
    "aeropuertos_argentina = airports[pais_es_argentina][['ident','latitude_deg','longitude_deg']]\n",
    "vuelos_con_coordenadas = aeropuertos_argentina.merge(eana_temp, left_on='ident', right_on='origen_oaci')\n"
   ]
  },
  {
   "cell_type": "code",
   "execution_count": 125,
   "metadata": {},
   "outputs": [],
   "source": [
    "geometry = [Point(xy) for xy in zip(vuelos_con_coordenadas.longitude_deg, vuelos_con_coordenadas.latitude_deg)]\n",
    "crs = {'init': 'epsg:4326'}\n",
    "pnts = gpd.GeoDataFrame(vuelos_con_coordenadas, crs=crs, geometry=geometry)\n",
    "\n",
    "output = pd.DataFrame()\n",
    "\n",
    "for geom in argentina.geometry:\n",
    "    punto_en_pol = pnts.within(geom)\n",
    "    provincia_geo = argentina.geometry == geom\n",
    "    provincia = argentina[provincia_geo].NAM.values[0]\n",
    "    region = provincias[provincias.provincia_id == argentina[provincia_geo].IN1.values.astype(int)[0]].region_nombre.unique()[0]\n",
    "    if ~provincia_geo.empty:\n",
    "        vuelos = vuelos_con_coordenadas[punto_en_pol].ident.value_counts().sum()\n",
    "        output_raw = pd.DataFrame(data=[vuelos, provincia, region] )\n",
    "\n",
    "        output = output.append(output_raw.transpose(), ignore_index=True)"
   ]
  },
  {
   "cell_type": "code",
   "execution_count": 126,
   "metadata": {},
   "outputs": [
    {
     "data": {
      "text/html": [
       "<div>\n",
       "<style scoped>\n",
       "    .dataframe tbody tr th:only-of-type {\n",
       "        vertical-align: middle;\n",
       "    }\n",
       "\n",
       "    .dataframe tbody tr th {\n",
       "        vertical-align: top;\n",
       "    }\n",
       "\n",
       "    .dataframe thead th {\n",
       "        text-align: right;\n",
       "    }\n",
       "</style>\n",
       "<table border=\"1\" class=\"dataframe\">\n",
       "  <thead>\n",
       "    <tr style=\"text-align: right;\">\n",
       "      <th></th>\n",
       "      <th>vuelos_cantidad</th>\n",
       "      <th>provincia_nombre</th>\n",
       "    </tr>\n",
       "    <tr>\n",
       "      <th>region_nombre</th>\n",
       "      <th></th>\n",
       "      <th></th>\n",
       "    </tr>\n",
       "  </thead>\n",
       "  <tbody>\n",
       "    <tr>\n",
       "      <th>Buenos Aires</th>\n",
       "      <td>394</td>\n",
       "      <td>Ciudad Autónoma de Buenos AiresBuenos Aires</td>\n",
       "    </tr>\n",
       "    <tr>\n",
       "      <th>Centro</th>\n",
       "      <td>94</td>\n",
       "      <td>Entre RíosCórdobaSanta Fe</td>\n",
       "    </tr>\n",
       "    <tr>\n",
       "      <th>Norte Grande Argentino</th>\n",
       "      <td>119</td>\n",
       "      <td>MisionesCatamarcaSantiago del EsteroCorrientes...</td>\n",
       "    </tr>\n",
       "    <tr>\n",
       "      <th>Nuevo Cuyo</th>\n",
       "      <td>53</td>\n",
       "      <td>San LuisSan JuanMendozaLa Rioja</td>\n",
       "    </tr>\n",
       "    <tr>\n",
       "      <th>Patagonia</th>\n",
       "      <td>170</td>\n",
       "      <td>Santa CruzRío NegroChubutLa PampaNeuquénTierra...</td>\n",
       "    </tr>\n",
       "  </tbody>\n",
       "</table>\n",
       "</div>"
      ],
      "text/plain": [
       "                        vuelos_cantidad  \\\n",
       "region_nombre                             \n",
       "Buenos Aires                        394   \n",
       "Centro                               94   \n",
       "Norte Grande Argentino              119   \n",
       "Nuevo Cuyo                           53   \n",
       "Patagonia                           170   \n",
       "\n",
       "                                                         provincia_nombre  \n",
       "region_nombre                                                              \n",
       "Buenos Aires                  Ciudad Autónoma de Buenos AiresBuenos Aires  \n",
       "Centro                                          Entre RíosCórdobaSanta Fe  \n",
       "Norte Grande Argentino  MisionesCatamarcaSantiago del EsteroCorrientes...  \n",
       "Nuevo Cuyo                                San LuisSan JuanMendozaLa Rioja  \n",
       "Patagonia               Santa CruzRío NegroChubutLa PampaNeuquénTierra...  "
      ]
     },
     "execution_count": 126,
     "metadata": {},
     "output_type": "execute_result"
    }
   ],
   "source": [
    "output.columns = ['vuelos_cantidad', 'provincia_nombre', 'region_nombre']\n",
    "\n",
    "result_by_region = output.groupby('region_nombre').sum()\n",
    "\n",
    "result_by_region\n",
    "\n",
    "#agregar plot con la cantidad de vuelos por region y provincia"
   ]
  },
  {
   "cell_type": "code",
   "execution_count": null,
   "metadata": {},
   "outputs": [],
   "source": []
  }
 ],
 "metadata": {
  "anaconda-cloud": {},
  "kernelspec": {
   "display_name": "Python 2",
   "language": "python",
   "name": "python2"
  },
  "language_info": {
   "codemirror_mode": {
    "name": "ipython",
    "version": 2
   },
   "file_extension": ".py",
   "mimetype": "text/x-python",
   "name": "python",
   "nbconvert_exporter": "python",
   "pygments_lexer": "ipython2",
   "version": "2.7.14"
  },
  "notify_time": "5",
  "toc": {
   "nav_menu": {},
   "number_sections": true,
   "sideBar": false,
   "skip_h1_title": false,
   "toc_cell": false,
   "toc_position": {
    "height": "424px",
    "left": "1019.11px",
    "right": "20px",
    "top": "120px",
    "width": "327px"
   },
   "toc_section_display": "none",
   "toc_window_display": true
  }
 },
 "nbformat": 4,
 "nbformat_minor": 1
}
